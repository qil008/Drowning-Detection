{
  "cells": [
    {
      "cell_type": "markdown",
      "metadata": {
        "id": "DSvo9ue5yq0-"
      },
      "source": [
        "# Objective\n",
        "- web based drowning detection demo using computer vision.\n",
        "    - web implemented using vue+springboot.\n",
        "    - user should be able to upload video and see video generated with bounding box showing possible drowning instance.\n",
        "- analysis are done purely based on video, no wearable sensors.\n",
        "- computer vision implemented using (two options)\n",
        "    - yolo\n",
        "    - VAD\n"
      ]
    },
    {
      "cell_type": "markdown",
      "metadata": {
        "id": "1B-PF85mIYuC"
      },
      "source": [
        "# Two option for detection task"
      ]
    },
    {
      "cell_type": "markdown",
      "metadata": {
        "id": "1UeP_bd3Ie6M"
      },
      "source": [
        "## yolo"
      ]
    },
    {
      "cell_type": "markdown",
      "metadata": {
        "id": "zOSurMnnJJ1N"
      },
      "source": [
        "This approach is inspired by: \\\n",
        "\n",
        "Redmon, J. (2016). “You Only Look Once: Unified, Real-Time\n",
        "Object Detection,“ in IEEE Conference on Computer Vision and\n",
        "Pattern Recognition (CVPR).1 3 https://www.cv-foundation.org/openaccess/content_cvpr_2016/papers/Redmon_You_Only_Look_CVPR_2016_paper.pdf\n",
        "\n",
        "1 yolo model to handle everything, this requires well labeled image data set with both normal swiming people and drowning people. I plan to use yolo framework provided by roboflow.\n",
        "- pros:\n",
        "  - easy to deploy using frameworked already provided.\n",
        "- cons:\n",
        "  - Most of data sets include image taken above water, lack information about body movement under water.\n",
        "  - This method detect drowning based on single frame image, thus may overlook information from continuous frames, e.g. previous few frames."
      ]
    },
    {
      "cell_type": "markdown",
      "metadata": {
        "id": "VyOu7tKBJhT6"
      },
      "source": [
        "### data set"
      ]
    },
    {
      "cell_type": "markdown",
      "metadata": {
        "id": "fyzvi1PsJ1f3"
      },
      "source": [
        "1. Roboflow Universe/pwnface4@gmail.com/drowning people: https://universe.roboflow.com/pwnface4-gmail-com/drowning-people/browse?queryText=&pageSize=50&startingIndex=0&browseQuery=true  93 images, classes: drowning, swimming\n",
        "2. Roboflow Universe/drawnings/drowning-finder: https://universe.roboflow.com/drawnings/drowning-finder 2022 images, classes: Boat, Kayak, Person NOT in water, Person drowning, Person in water, Sail boat, Speed boat, Surf board\n",
        "3. Roboflow Universe/University/Swimming and Drowning Detection: https://universe.roboflow.com/osama-heikal-ryvll/drowning-detection-rawzc 7295 images, classes: Drowning, Person out of water, Swimming"
      ]
    },
    {
      "cell_type": "markdown",
      "metadata": {
        "id": "rEKWeyRMPUbE"
      },
      "source": [
        "## DAV"
      ]
    },
    {
      "cell_type": "markdown",
      "metadata": {
        "id": "1b_3qSGGUc5m"
      },
      "source": [
        "This appproach is inspired by: \\\n",
        "\n",
        "Liu, T., He, X., He, L., & Yuan, F. (2023). A video drowning detection device based on underwater computer vision. IET Image Processing. https://doi.org/10.1049/ipr2.12765\n",
        "\n",
        "- Use of DAV: DAV is chosen due to the limited availability of authentic drowning data. Simulated instances don't accurately replicate drowning behavior, making DAV essential for reliable detection.\n",
        "\n",
        "- Preprocessing Method: The paper employs CLAHE to enhance underwater images, addressing common issues like color recession and low contrast, which improves the detection of human figures.\n",
        "\n",
        "- Near Vertical Human Pose Detection using YOLO: Recognizing that drowning or treading water typically results in a near-vertical posture, the paper employs YOLOv5n. The detection is based on specific criteria: the human bounding box's width-to-height ratio exceeding 110%, its edges being more than 20 pixels from the image's sides, the intersection area with other boxes being less than 20% of its area, and the box area being at least 5000 pixels​​.\n",
        "\n",
        "- DAV and Gaussian Model Guidance: The Deep Gaussian Model (DGM), which is part of the DAV approach, uses a neural network to extract high-level semantic features from continuous frames. The model then employs a Mahalanobis distance-based method to differentiate between normal and drowning behaviors. This distance measure is crucial in determining the anomaly in the spatial-temporal features of detected human figures​​.\n",
        "\n",
        "- pros:\n",
        "  - included continous frames\n",
        "  - avoid limited availability of authentic drowning data.\n",
        "- cons:\n",
        "  - require underwater data set if I want to implement near vertical human pose"
      ]
    },
    {
      "cell_type": "markdown",
      "metadata": {
        "id": "4JVM0lyCabkI"
      },
      "source": [
        "# other options"
      ]
    },
    {
      "cell_type": "markdown",
      "metadata": {
        "id": "7Tj_nPEwarsJ"
      },
      "source": [
        "P, D., Durairaj, M., Subudhi, S. et al. AI-driven drowned-detection system for rapid coastal rescue operations. Spat. Inf. Res. (2023). https://doi.org/10.1007/s41324-023-00549-7 \\\n",
        "This article mentioned the used of LSTM in predicting human movement (section 2.3)"
      ]
    }
  ],
  "metadata": {
    "colab": {
      "provenance": []
    },
    "kernelspec": {
      "display_name": "Python 3",
      "name": "python3"
    },
    "language_info": {
      "name": "python"
    }
  },
  "nbformat": 4,
  "nbformat_minor": 0
}
